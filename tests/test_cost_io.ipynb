{
 "cells": [
  {
   "cell_type": "code",
   "execution_count": 2,
   "metadata": {},
   "outputs": [],
   "source": [
    "%load_ext autoreload\n",
    "%autoreload 2"
   ]
  },
  {
   "attachments": {},
   "cell_type": "markdown",
   "metadata": {},
   "source": [
    "In this notebook I test the time and memory cost of saving and loading 3D arrays"
   ]
  },
  {
   "cell_type": "code",
   "execution_count": 10,
   "metadata": {},
   "outputs": [
    {
     "name": "stdout",
     "output_type": "stream",
     "text": [
      "Overwriting tmptest__.py\n"
     ]
    }
   ],
   "source": [
    "%%writefile tmptest__.py\n",
    "import numpy as np\n",
    "import time\n",
    "from memory_profiler import profile\n",
    "import os\n",
    "\n",
    "\n",
    "@profile\n",
    "def test_numpy(Nsize, type):\n",
    "  if type == 'complex128':\n",
    "    arr = np.random.rand(Nsize, Nsize, Nsize, 3) + 1j * np.random.rand(Nsize, Nsize, Nsize, 3)\n",
    "    arr = arr.astype(np.complex128)\n",
    "  elif type == 'complex64':\n",
    "    arr = np.random.rand(Nsize, Nsize, Nsize, 3) + 1j * np.random.rand(Nsize, Nsize, Nsize, 3)\n",
    "    arr = arr.astype(np.complex64)\n",
    "  elif type == 'float64':\n",
    "    arr = np.random.rand(Nsize, Nsize, Nsize, 3)\n",
    "    arr = arr.astype(np.float64)\n",
    "  elif type == 'float32':\n",
    "    arr = np.random.rand(Nsize, Nsize, Nsize, 3)\n",
    "    arr = arr.astype(np.float32)\n",
    "  else:\n",
    "    raise ValueError(\"type not supported\")\n",
    "\n",
    "  for i in range(3):\n",
    "    t0 = time.perf_counter()\n",
    "    np.save('test.npy', arr)\n",
    "    t = time.perf_counter() - t0\n",
    "    print(\"numpy save: {} s\".format(t))\n",
    "\n",
    "    t0 = time.perf_counter()\n",
    "    arr = np.load('test.npy')\n",
    "    t = time.perf_counter() - t0\n",
    "    print(\"numpy load: {} s\".format(t))\n",
    "\n",
    "    os.system('rm test.npy')\n",
    "\n",
    "if __name__ == '__main__':\n",
    "  test_numpy(Nsize=1024, type='complex64')"
   ]
  },
  {
   "cell_type": "code",
   "execution_count": 11,
   "metadata": {},
   "outputs": [
    {
     "name": "stdout",
     "output_type": "stream",
     "text": [
      "Using last profile data.\n"
     ]
    }
   ],
   "source": [
    "import sys\n",
    "!{sys.executable} -m mprof run --multiprocess --include-children tmptest__.py > tmptest__.log\n",
    "!{sys.executable} -m mprof plot -f -o tmptest__.png\n",
    "!code tmptest__.png\n",
    "!code tmptest__.log"
   ]
  }
 ],
 "metadata": {
  "kernelspec": {
   "display_name": "winterfell",
   "language": "python",
   "name": "python3"
  },
  "language_info": {
   "codemirror_mode": {
    "name": "ipython",
    "version": 3
   },
   "file_extension": ".py",
   "mimetype": "text/x-python",
   "name": "python",
   "nbconvert_exporter": "python",
   "pygments_lexer": "ipython3",
   "version": "3.9.7"
  },
  "orig_nbformat": 4
 },
 "nbformat": 4,
 "nbformat_minor": 2
}
