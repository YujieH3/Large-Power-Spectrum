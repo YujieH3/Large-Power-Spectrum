{
 "cells": [
  {
   "cell_type": "code",
   "execution_count": 92,
   "metadata": {},
   "outputs": [],
   "source": [
    "%load_ext autoreload\n",
    "%autoreload 2"
   ]
  },
  {
   "attachments": {},
   "cell_type": "markdown",
   "metadata": {},
   "source": [
    "## Interpolation\n",
    "Test interpolation of all particles and of some portion of the particles. Question is how the interpolation time and memory scales with number of particles and size of the grid."
   ]
  },
  {
   "cell_type": "code",
   "execution_count": 42,
   "metadata": {},
   "outputs": [
    {
     "name": "stdout",
     "output_type": "stream",
     "text": [
      "Overwriting tmptest.py\n"
     ]
    }
   ],
   "source": [
    "%%writefile tmptest.py\n",
    "import time\n",
    "from utils_folding import SimulationParticles\n",
    "import numpy as np\n",
    "from memory_profiler import profile\n",
    "\n",
    "@profile\n",
    "def test():\n",
    "  SNAPSHOT = '/appalachia/d5/DISK/from_pleiades/snapshots/gmcs0_wind4_gmc9/snapshot_550.hdf5'\n",
    "  simParticles = SimulationParticles.load_snapshot(SNAPSHOT)\n",
    "\n",
    "  t0 = time.perf_counter()\n",
    "  simField3D = simParticles[::16].interp_to_field(Nsize=1024) # [::n] of the particles\n",
    "  t = time.perf_counter() - t0\n",
    "  print(\"Time for interpolation: {} s\".format(t))\n",
    "\n",
    "if __name__ == '__main__':\n",
    "  test()"
   ]
  },
  {
   "cell_type": "code",
   "execution_count": 43,
   "metadata": {},
   "outputs": [
    {
     "name": "stdout",
     "output_type": "stream",
     "text": [
      "OMP: Info #276: omp_set_nested routine deprecated, please use omp_set_max_active_levels instead.\n",
      "root_add_process : started ...\n",
      "workers_process : started ...\n",
      "workers using 35 threads.\n",
      "Workers processed 107181154 numbers, of which were\n",
      "\t0.000e+00 exact calculations (R<Rmin),\n",
      "\t5.896e+07 exact calculations (R>Rmax),\n",
      "\t4.822e+07 trivial calculations,\n",
      "\t0.000e+00 interpolations.\n",
      "\n",
      "workers_process : ended.\n",
      "Root processed 107181154 numbers in 3287 CPU-chunks.\n",
      "root_add_process : ended.\n",
      "voxelize_gpu function took 27.5132 seconds\n",
      "In the end, 0 in cpu_queue\n",
      "Using last profile data.\n"
     ]
    }
   ],
   "source": [
    "import sys\n",
    "!{sys.executable} -m mprof run --multiprocess --include-children tmptest.py > tmptest.log\n",
    "!{sys.executable} -m mprof plot -f -o tmptest.png\n",
    "!code tmptest.png\n",
    "!code tmptest.log"
   ]
  },
  {
   "cell_type": "code",
   "execution_count": 1,
   "metadata": {},
   "outputs": [
    {
     "name": "stdout",
     "output_type": "stream",
     "text": [
      "Only the CPU-only flavour of Voxelize is available!\n",
      "Interpolating velocity field...\n",
      "Padding:  0.017721710844865554 Lbox:  1.035443421689731 Nsize:  530\n",
      "Auto padding done. Time elapsed: 0.27 s\n"
     ]
    },
    {
     "name": "stderr",
     "output_type": "stream",
     "text": [
      "OMP: Info #276: omp_set_nested routine deprecated, please use omp_set_max_active_levels instead.\n",
      "root_add_process : started ...\n",
      "workers_process : started ...\n",
      "workers using 35 threads.\n",
      "Workers processed 39342258 numbers, of which were\n",
      "\t0.000e+00 exact calculations (R<Rmin),\n",
      "\t3.109e+07 exact calculations (R>Rmax),\n",
      "\t8.254e+06 trivial calculations,\n",
      "\t0.000e+00 interpolations.\n",
      "\n",
      "workers_process : ended.\n",
      "Root processed 39342258 numbers in 1218 CPU-chunks.\n",
      "root_add_process : ended.\n",
      "voxelize_gpu function took 7.3999 seconds\n",
      "In the end, 0 in cpu_queue\n"
     ]
    },
    {
     "name": "stdout",
     "output_type": "stream",
     "text": [
      "First stamp: 0.52 s\n",
      "Second stamp: 1.57 s\n",
      "Third stamp: 2.45 s\n",
      "Fourth stamp: 2.45 s\n",
      "Interpolation done. Time elapsed: 10.23 s\n",
      "Interpolation to Field3D done. Time elapsed: 10.23 s\n"
     ]
    }
   ],
   "source": [
    "from utils_folding import SimulationParticles\n",
    "SNAPSHOT = '/appalachia/d5/DISK/from_pleiades/snapshots/gmcs0_wind4_gmc9/snapshot_550.hdf5'\n",
    "simParticles = SimulationParticles.load_snapshot(SNAPSHOT)\n",
    "simField3D = simParticles[::16].interp_to_field(Nsize=1024) # [::n] of the particles"
   ]
  },
  {
   "cell_type": "code",
   "execution_count": 3,
   "metadata": {},
   "outputs": [
    {
     "data": {
      "text/plain": [
       "False"
      ]
     },
     "execution_count": 3,
     "metadata": {},
     "output_type": "execute_result"
    }
   ],
   "source": [
    "import numpy as np\n",
    "True in np.isnan(simField3D.vx)"
   ]
  },
  {
   "cell_type": "markdown",
   "metadata": {},
   "source": [
    "## FFT"
   ]
  },
  {
   "cell_type": "code",
   "execution_count": 44,
   "metadata": {},
   "outputs": [
    {
     "name": "stdout",
     "output_type": "stream",
     "text": [
      "Overwriting tmptest.py\n"
     ]
    }
   ],
   "source": [
    "%%writefile tmptest.py\n",
    "# Transforming three components at the same time\n",
    "import pyfftw\n",
    "import time\n",
    "import numpy as np\n",
    "from memory_profiler import profile\n",
    "NSIZE = 1024\n",
    "\n",
    "@profile\n",
    "def run():\n",
    "  t0 = time.perf_counter()\n",
    "  arr = np.random.rand(NSIZE, NSIZE, NSIZE) + 1j * np.random.rand(NSIZE, NSIZE, NSIZE)\n",
    "  arr = arr.astype('complex64')\n",
    "  t = time.perf_counter() - t0\n",
    "  print(\"Random field creation: {} s\".format(t))\n",
    "\n",
    "  # Create FFTW object\n",
    "  t0 = time.perf_counter()\n",
    "  a = pyfftw.empty_aligned((NSIZE, NSIZE, NSIZE), dtype='complex64')\n",
    "  fft_object = pyfftw.FFTW(a, a, axes=(0, 1, 2), threads=32)\n",
    "  t = time.perf_counter() - t0\n",
    "  print(\"Time for FFTW object creation: {} s\".format(t))\n",
    "\n",
    "  # Perform FFT\n",
    "  for i in range(5):\n",
    "    t0 = time.perf_counter()\n",
    "    arr = fft_object(arr)\n",
    "    t = time.perf_counter() - t0\n",
    "    print(\"Time for FFTW: {} s\".format(t))\n",
    "\n",
    "if __name__ == '__main__':\n",
    "  run()"
   ]
  },
  {
   "cell_type": "code",
   "execution_count": 45,
   "metadata": {},
   "outputs": [
    {
     "name": "stdout",
     "output_type": "stream",
     "text": [
      "Using last profile data.\n"
     ]
    }
   ],
   "source": [
    "import sys\n",
    "!{sys.executable} -m mprof run --multiprocess --include-children tmptest.py > tmptest.log\n",
    "!{sys.executable} -m mprof plot -f -o tmptest.png\n",
    "!code tmptest.png\n",
    "!code tmptest.log"
   ]
  },
  {
   "cell_type": "code",
   "execution_count": 38,
   "metadata": {},
   "outputs": [
    {
     "name": "stdout",
     "output_type": "stream",
     "text": [
      "Overwriting tmptest.py\n"
     ]
    }
   ],
   "source": [
    "%%writefile tmptest.py\n",
    "# Transforming each component separately\n",
    "import pyfftw\n",
    "import time\n",
    "import numpy as np\n",
    "from memory_profiler import profile\n",
    "\n",
    "NSIZE = 512\n",
    "\n",
    "@profile\n",
    "def run():\n",
    "  arr = np.random.rand(NSIZE, NSIZE, NSIZE) + 1j * np.random.rand(NSIZE, NSIZE, NSIZE)\n",
    "  arr.astype('complex128')\n",
    "\n",
    "  # Create FFTW object\n",
    "  t0 = time.perf_counter()\n",
    "  a = pyfftw.empty_aligned((NSIZE, NSIZE, NSIZE), dtype='complex128')\n",
    "  fft_object = pyfftw.FFTW(a, a, axes=(0, 1, 2), threads=32)\n",
    "  t = time.perf_counter() - t0\n",
    "  print(\"Time for FFTW object creation: {} s\".format(t))\n",
    "\n",
    "  # Perform FFT\n",
    "  for i in range(3):\n",
    "    t0 = time.perf_counter()\n",
    "    arr = fft_object(arr)\n",
    "    t = time.perf_counter() - t0\n",
    "    print(\"Time for FFTW: {} s\".format(t))\n",
    "\n",
    "if __name__ == '__main__':\n",
    "  run()"
   ]
  }
 ],
 "metadata": {
  "kernelspec": {
   "display_name": "winterfell",
   "language": "python",
   "name": "python3"
  },
  "language_info": {
   "codemirror_mode": {
    "name": "ipython",
    "version": 3
   },
   "file_extension": ".py",
   "mimetype": "text/x-python",
   "name": "python",
   "nbconvert_exporter": "python",
   "pygments_lexer": "ipython3",
   "version": "3.9.7"
  }
 },
 "nbformat": 4,
 "nbformat_minor": 4
}
