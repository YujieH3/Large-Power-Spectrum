{
 "cells": [
  {
   "cell_type": "markdown",
   "metadata": {},
   "source": [
    "This notebook is used to develop a function (based on numpy) to be able to maximize two arrays over a specified axis. The motivation of this is to solve the problem of given two vector fields with shape, say (Nsize, Nsize, Nsize, 4), how we can get a output vector field such that at each point is the vector field value with largest third component of the two fields. (e.g. at some point, vector value [1,2,3,4] is selected over [4,3,2,1].)"
   ]
  },
  {
   "cell_type": "code",
   "execution_count": 4,
   "metadata": {},
   "outputs": [
    {
     "name": "stdout",
     "output_type": "stream",
     "text": [
      "data1:  [[[0.65863993 0.76215546 0.589668   0.13137179]\n",
      "  [0.3098471  0.46028451 0.73932358 0.89791256]]\n",
      "\n",
      " [[0.18609699 0.55516433 0.32283561 0.01436058]\n",
      "  [0.56884293 0.2009529  0.47864858 0.08242949]]] \n",
      "\n",
      "data2:  [[[0.95411302 0.21031596 0.74669867 0.66262938]\n",
      "  [0.50690708 0.15313426 0.12008016 0.48399362]]\n",
      "\n",
      " [[0.7793065  0.68587063 0.16996605 0.89995965]\n",
      "  [0.98776651 0.80412389 0.48414322 0.24180389]]] \n",
      "\n",
      "output:  [[[0.95411302 0.21031596 0.74669867 0.66262938]\n",
      "  [0.50690708 0.15313426 0.12008016 0.89791256]]\n",
      "\n",
      " [[0.7793065  0.68587063 0.16996605 0.89995965]\n",
      "  [0.98776651 0.80412389 0.48414322 0.24180389]]]\n"
     ]
    }
   ],
   "source": [
    "# maximum?\n",
    "import numpy as np\n",
    "\n",
    "data1 = np.random.rand(2,2,4)\n",
    "data2 = np.random.rand(2,2,4)\n",
    "print('data1: ', data1, '\\n')\n",
    "print('data2: ', data2, '\\n')\n",
    "\n",
    "truearr = np.full((2, 2, 3), False)\n",
    "falsearr = np.full((2, 2, 1), True)\n",
    "boolarr = np.concatenate((truearr, falsearr), axis=2)\n",
    "\n",
    "output = np.maximum(data1, data2, where=boolarr)\n",
    "print('output: ', output)\n",
    "# issue : except for maximizing the last component, the output take the rest of \n",
    "# value from data2."
   ]
  },
  {
   "cell_type": "code",
   "execution_count": 16,
   "metadata": {},
   "outputs": [
    {
     "name": "stdout",
     "output_type": "stream",
     "text": [
      "data1:  [[[0.2867273  0.72425837 0.27850917 0.38906279]\n",
      "  [0.17551568 0.97517672 0.48734197 0.9590225 ]]\n",
      "\n",
      " [[0.89070108 0.07544138 0.02347651 0.19702417]\n",
      "  [0.93202332 0.87696868 0.23866475 0.32672092]]] \n",
      "\n",
      "data2:  [[[0.0673769  0.26580564 0.24937553 0.46792389]\n",
      "  [0.39985757 0.4290896  0.5064146  0.03504068]]\n",
      "\n",
      " [[0.86458013 0.81729199 0.53836042 0.45677154]\n",
      "  [0.8233393  0.68440695 0.19832134 0.59250019]]] \n",
      "\n",
      "(2, 2, 4)\n",
      "boolarr:  [[[False False False False]\n",
      "  [ True  True  True  True]]\n",
      "\n",
      " [[False False False False]\n",
      "  [False False False False]]] \n",
      "\n",
      "output:  [[[0.0673769  0.26580564 0.24937553 0.46792389]\n",
      "  [0.17551568 0.97517672 0.48734197 0.9590225 ]]\n",
      "\n",
      " [[0.86458013 0.81729199 0.53836042 0.45677154]\n",
      "  [0.8233393  0.68440695 0.19832134 0.59250019]]]\n"
     ]
    }
   ],
   "source": [
    "# ufunc?\n",
    "import numpy as np\n",
    "\n",
    "data1 = np.random.rand(2,2,4)\n",
    "data2 = np.random.rand(2,2,4)\n",
    "print('data1: ', data1, '\\n')\n",
    "print('data2: ', data2, '\\n')\n",
    "\n",
    "boolarr = data1[:,:,3] > data2[:,:,3]\n",
    "boolarr = np.stack((boolarr, boolarr, boolarr, boolarr), 2) # this is fucking ugly\n",
    "print(boolarr.shape)\n",
    "print('boolarr: ', boolarr, '\\n')\n",
    "\n",
    "output = np.where(boolarr, data1, data2)\n",
    "print('output: ', output)"
   ]
  }
 ],
 "metadata": {
  "kernelspec": {
   "display_name": "winterfell",
   "language": "python",
   "name": "python3"
  },
  "language_info": {
   "codemirror_mode": {
    "name": "ipython",
    "version": 3
   },
   "file_extension": ".py",
   "mimetype": "text/x-python",
   "name": "python",
   "nbconvert_exporter": "python",
   "pygments_lexer": "ipython3",
   "version": "3.9.17"
  }
 },
 "nbformat": 4,
 "nbformat_minor": 2
}
