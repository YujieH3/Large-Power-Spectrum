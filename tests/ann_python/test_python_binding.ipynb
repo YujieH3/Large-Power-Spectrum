{
 "cells": [
  {
   "cell_type": "code",
   "execution_count": 5,
   "metadata": {},
   "outputs": [
    {
     "name": "stdout",
     "output_type": "stream",
     "text": [
      "[[0.35436721 0.87870417 0.34496612 0.55249924 0.69641004]\n",
      " [0.83564971 0.16177692 0.68582934 0.3489693  0.01049571]\n",
      " [0.56665267 0.56099012 0.34671766 0.61849921 0.13011441]]\n"
     ]
    }
   ],
   "source": [
    "import numpy as np\n",
    "\n",
    "arr = np.random.rand(3,5)\n",
    "print(arr)"
   ]
  },
  {
   "cell_type": "code",
   "execution_count": 6,
   "metadata": {},
   "outputs": [],
   "source": [
    "import test_module as test"
   ]
  },
  {
   "cell_type": "code",
   "execution_count": 7,
   "metadata": {},
   "outputs": [
    {
     "name": "stdout",
     "output_type": "stream",
     "text": [
      "C++:\n",
      "Answer: [[0.35436721 0.87870417 0.34496612 0.55249924 0.69641004]\n",
      " [0.83564971 0.16177692 0.68582934 0.3489693  0.01049571]\n",
      " [0.56665267 0.56099012 0.34671766 0.61849921 0.13011441]]\n",
      "Time: 0.000429227 s\n",
      "(0.354367, 0.878704, 0.344966, 0.552499, 0.69641)\n",
      "(0.83565, 0.161777, 0.685829, 0.348969, 0.0104957)\n",
      "(0.566653, 0.56099, 0.346718, 0.618499, 0.130114)\n"
     ]
    }
   ],
   "source": [
    "import time\n",
    "\n",
    "print('C++:')\n",
    "start_time = time.perf_counter_ns()\n",
    "print('Answer:', test.echo2darray(arr))\n",
    "print('Time:', (time.perf_counter_ns() - start_time) / 1e9, 's')"
   ]
  }
 ],
 "metadata": {
  "kernelspec": {
   "display_name": "pybind11",
   "language": "python",
   "name": "python3"
  },
  "language_info": {
   "codemirror_mode": {
    "name": "ipython",
    "version": 3
   },
   "file_extension": ".py",
   "mimetype": "text/x-python",
   "name": "python",
   "nbconvert_exporter": "python",
   "pygments_lexer": "ipython3",
   "version": "3.11.5"
  },
  "orig_nbformat": 4
 },
 "nbformat": 4,
 "nbformat_minor": 2
}
