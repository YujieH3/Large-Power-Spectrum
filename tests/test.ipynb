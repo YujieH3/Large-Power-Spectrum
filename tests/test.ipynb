{
 "cells": [
  {
   "cell_type": "code",
   "execution_count": 18,
   "metadata": {},
   "outputs": [],
   "source": [
    "# Does numba work with annoy\n",
    "import numpy as np\n",
    "from annoy import AnnoyIndex\n",
    "from numba import jit\n",
    "\n",
    "@jit(fastmath=True, forceobj=True)\n",
    "def test_numba():\n",
    "    f = 40\n",
    "    t = AnnoyIndex(f, 'euclidean')\n",
    "    for i in range(10000):\n",
    "        v = np.random.rand(f)\n",
    "        t.add_item(i, v)\n",
    "    t.build(10)\n",
    "    for j in range(100000):\n",
    "        t.get_nns_by_vector(np.random.rand(f), 10)"
   ]
  },
  {
   "cell_type": "code",
   "execution_count": 19,
   "metadata": {},
   "outputs": [
    {
     "name": "stderr",
     "output_type": "stream",
     "text": [
      "/tmp/ipykernel_996806/2664387536.py:6: NumbaWarning: \n",
      "Compilation is falling back to object mode WITHOUT looplifting enabled because Function \"test_numba\" failed type inference due to: non-precise type pyobject\n",
      "During: typing of argument at /tmp/ipykernel_996806/2664387536.py (10)\n",
      "\n",
      "File \"../../../../../tmp/ipykernel_996806/2664387536.py\", line 10:\n",
      "<source missing, REPL/exec in use?>\n",
      "\n",
      "  @jit(fastmath=True, forceobj=True)\n",
      "/tmp/ipykernel_996806/2664387536.py:6: NumbaWarning: \n",
      "Compilation is falling back to object mode WITHOUT looplifting enabled because Function \"test_numba\" failed type inference due to: non-precise type pyobject\n",
      "During: typing of argument at /tmp/ipykernel_996806/2664387536.py (13)\n",
      "\n",
      "File \"../../../../../tmp/ipykernel_996806/2664387536.py\", line 13:\n",
      "<source missing, REPL/exec in use?>\n",
      "\n",
      "  @jit(fastmath=True, forceobj=True)\n"
     ]
    }
   ],
   "source": [
    "test_numba()"
   ]
  },
  {
   "cell_type": "code",
   "execution_count": 20,
   "metadata": {},
   "outputs": [],
   "source": [
    "f = 40\n",
    "t = AnnoyIndex(f, 'euclidean')\n",
    "for i in range(10000):\n",
    "    v = np.random.rand(f)\n",
    "    t.add_item(i, v)\n",
    "t.build(10)\n",
    "for j in range(100000):\n",
    "    t.get_nns_by_vector(np.random.rand(f), 10)"
   ]
  },
  {
   "cell_type": "markdown",
   "metadata": {},
   "source": [
    "# Memory calculator"
   ]
  },
  {
   "cell_type": "code",
   "execution_count": 12,
   "metadata": {},
   "outputs": [],
   "source": [
    "\n",
    "def memory_calculator(n_box):\n",
    "    \"\"\" Calculate the peak memory usage of this script for planning. \"\"\"\n",
    "    peak_mem_interp_in_bits = n_box**3 * 64 * 3 # complex 64\n",
    "    peak_mem_interp_in_gigabytes = peak_mem_interp_in_bits / 8 / 1024 / 1024 / 1024\n",
    "    peak_mem_fftw_in_bits = 2 * n_box**3 * 64 * 3\n",
    "    peak_mem_fftw_in_gigabytes = peak_mem_fftw_in_bits / 8 / 1024 / 1024 / 1024\n",
    "    return peak_mem_interp_in_gigabytes, peak_mem_fftw_in_gigabytes"
   ]
  },
  {
   "cell_type": "code",
   "execution_count": 13,
   "metadata": {},
   "outputs": [
    {
     "data": {
      "text/plain": [
       "(2.7939677238464355, 5.587935447692871)"
      ]
     },
     "execution_count": 13,
     "metadata": {},
     "output_type": "execute_result"
    }
   ],
   "source": [
    "memory_calculator(500)"
   ]
  },
  {
   "cell_type": "code",
   "execution_count": 9,
   "metadata": {},
   "outputs": [
    {
     "data": {
      "text/plain": [
       "0.3333"
      ]
     },
     "execution_count": 9,
     "metadata": {},
     "output_type": "execute_result"
    }
   ],
   "source": [
    "import numpy as np\n",
    "np.float16(1/3)"
   ]
  },
  {
   "cell_type": "markdown",
   "metadata": {},
   "source": [
    "# rst assignment"
   ]
  },
  {
   "cell_type": "code",
   "execution_count": 6,
   "metadata": {},
   "outputs": [
    {
     "name": "stdout",
     "output_type": "stream",
     "text": [
      "0 0 0\n",
      "2 0 0\n",
      "0 2 0\n",
      "2 2 0\n",
      "0 0 2\n",
      "2 0 2\n",
      "0 2 2\n",
      "2 2 2\n"
     ]
    }
   ],
   "source": [
    "n_threads_per_axis = 2\n",
    "n = 2\n",
    "for rank in range(8):\n",
    "    r = n * ((rank % n_threads_per_axis) // 1)\n",
    "    s = n * ((rank % n_threads_per_axis**2) // n_threads_per_axis)\n",
    "    t = n * (rank // n_threads_per_axis**2)\n",
    "    print(r,s,t)"
   ]
  },
  {
   "cell_type": "code",
   "execution_count": 11,
   "metadata": {},
   "outputs": [
    {
     "name": "stdout",
     "output_type": "stream",
     "text": [
      "[[1. 1.]\n",
      " [1. 1.]]\n"
     ]
    }
   ],
   "source": [
    "import numpy as np\n",
    "x = np.ones((2,2))\n",
    "b = np.zeros((2,2))\n",
    "b = x\n",
    "del x\n",
    "print(b)\n"
   ]
  },
  {
   "cell_type": "code",
   "execution_count": 13,
   "metadata": {},
   "outputs": [],
   "source": [
    "import gc\n",
    "for i in range(10):\n",
    "    x = i\n",
    "    gc.collect()"
   ]
  }
 ],
 "metadata": {
  "kernelspec": {
   "display_name": "parallel",
   "language": "python",
   "name": "python3"
  },
  "language_info": {
   "codemirror_mode": {
    "name": "ipython",
    "version": 3
   },
   "file_extension": ".py",
   "mimetype": "text/x-python",
   "name": "python",
   "nbconvert_exporter": "python",
   "pygments_lexer": "ipython3",
   "version": "3.11.7"
  }
 },
 "nbformat": 4,
 "nbformat_minor": 2
}
