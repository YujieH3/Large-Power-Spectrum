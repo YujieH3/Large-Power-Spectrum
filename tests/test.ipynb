{
 "cells": [
  {
   "cell_type": "code",
   "execution_count": 18,
   "metadata": {},
   "outputs": [],
   "source": [
    "# Does numba work with annoy\n",
    "import numpy as np\n",
    "from annoy import AnnoyIndex\n",
    "from numba import jit\n",
    "\n",
    "@jit(fastmath=True, forceobj=True)\n",
    "def test_numba():\n",
    "    f = 40\n",
    "    t = AnnoyIndex(f, 'euclidean')\n",
    "    for i in range(10000):\n",
    "        v = np.random.rand(f)\n",
    "        t.add_item(i, v)\n",
    "    t.build(10)\n",
    "    for j in range(100000):\n",
    "        t.get_nns_by_vector(np.random.rand(f), 10)"
   ]
  },
  {
   "cell_type": "code",
   "execution_count": 19,
   "metadata": {},
   "outputs": [
    {
     "name": "stderr",
     "output_type": "stream",
     "text": [
      "/tmp/ipykernel_996806/2664387536.py:6: NumbaWarning: \n",
      "Compilation is falling back to object mode WITHOUT looplifting enabled because Function \"test_numba\" failed type inference due to: non-precise type pyobject\n",
      "During: typing of argument at /tmp/ipykernel_996806/2664387536.py (10)\n",
      "\n",
      "File \"../../../../../tmp/ipykernel_996806/2664387536.py\", line 10:\n",
      "<source missing, REPL/exec in use?>\n",
      "\n",
      "  @jit(fastmath=True, forceobj=True)\n",
      "/tmp/ipykernel_996806/2664387536.py:6: NumbaWarning: \n",
      "Compilation is falling back to object mode WITHOUT looplifting enabled because Function \"test_numba\" failed type inference due to: non-precise type pyobject\n",
      "During: typing of argument at /tmp/ipykernel_996806/2664387536.py (13)\n",
      "\n",
      "File \"../../../../../tmp/ipykernel_996806/2664387536.py\", line 13:\n",
      "<source missing, REPL/exec in use?>\n",
      "\n",
      "  @jit(fastmath=True, forceobj=True)\n"
     ]
    }
   ],
   "source": [
    "test_numba()"
   ]
  },
  {
   "cell_type": "code",
   "execution_count": 20,
   "metadata": {},
   "outputs": [],
   "source": [
    "f = 40\n",
    "t = AnnoyIndex(f, 'euclidean')\n",
    "for i in range(10000):\n",
    "    v = np.random.rand(f)\n",
    "    t.add_item(i, v)\n",
    "t.build(10)\n",
    "for j in range(100000):\n",
    "    t.get_nns_by_vector(np.random.rand(f), 10)"
   ]
  },
  {
   "cell_type": "markdown",
   "metadata": {},
   "source": [
    "# Reshape with tile"
   ]
  },
  {
   "cell_type": "code",
   "execution_count": 7,
   "metadata": {},
   "outputs": [
    {
     "data": {
      "text/plain": [
       "1"
      ]
     },
     "execution_count": 7,
     "metadata": {},
     "output_type": "execute_result"
    }
   ],
   "source": [
    "10 % 3"
   ]
  },
  {
   "cell_type": "code",
   "execution_count": 1,
   "metadata": {},
   "outputs": [],
   "source": [
    "import numpy as np"
   ]
  },
  {
   "cell_type": "code",
   "execution_count": 3,
   "metadata": {},
   "outputs": [],
   "source": [
    "a = np.arange(8)"
   ]
  },
  {
   "cell_type": "code",
   "execution_count": 4,
   "metadata": {},
   "outputs": [],
   "source": [
    "a_ = np.pad(a, (0, 8), mode='constant', constant_values=0)"
   ]
  },
  {
   "cell_type": "code",
   "execution_count": 5,
   "metadata": {},
   "outputs": [
    {
     "name": "stdout",
     "output_type": "stream",
     "text": [
      "[0 1 2 3 4 5 6 7 0 0 0 0 0 0 0 0]\n"
     ]
    }
   ],
   "source": [
    "print(a_)"
   ]
  },
  {
   "cell_type": "code",
   "execution_count": null,
   "metadata": {},
   "outputs": [],
   "source": []
  }
 ],
 "metadata": {
  "kernelspec": {
   "display_name": "parallel",
   "language": "python",
   "name": "python3"
  },
  "language_info": {
   "codemirror_mode": {
    "name": "ipython",
    "version": 3
   },
   "file_extension": ".py",
   "mimetype": "text/x-python",
   "name": "python",
   "nbconvert_exporter": "python",
   "pygments_lexer": "ipython3",
   "version": "3.11.7"
  }
 },
 "nbformat": 4,
 "nbformat_minor": 2
}
