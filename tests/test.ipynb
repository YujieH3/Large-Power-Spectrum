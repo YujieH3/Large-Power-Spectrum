{
 "cells": [
  {
   "cell_type": "code",
   "execution_count": 4,
   "metadata": {},
   "outputs": [
    {
     "name": "stdout",
     "output_type": "stream",
     "text": [
      "1\n",
      "1\n",
      "1\n",
      "1\n",
      "1\n",
      "1\n",
      "1\n",
      "1\n",
      "1\n",
      "1\n"
     ]
    },
    {
     "data": {
      "text/plain": [
       "(array([5., 5., 5., 5., 5., 5., 5., 5., 5., 5.], dtype=float32),\n",
       " array([5. , 5. , 5. , 5. , 5. , 5. , 5. , 5.1, 5.1, 5.1], dtype=float32),\n",
       " array([5.3, 5.4, 5.5, 5.6, 5.7, 5.8, 5.9, 5. , 5.1, 5.2], dtype=float32))"
      ]
     },
     "execution_count": 4,
     "metadata": {},
     "output_type": "execute_result"
    }
   ],
   "source": [
    "import numpy as np\n",
    "from numba import njit\n",
    "@njit(fastmath=True)\n",
    "def make_xyz(x_start, y_start, z_start, Nbox, Lcell, f_idx, n_queue):\n",
    "    \"\"\"\n",
    "    Calculate phase factor array for the coordinate range we need. Output is\n",
    "    the x, y, z array of the phase factor, each a 1-D array of length n_queue.\n",
    "    We use loops to fill an array instead of a meshgrid-reshape-slice approach\n",
    "    to reduce memory consumption.\n",
    "\n",
    "    Note\n",
    "    ----\n",
    "    In the last loop, f_idx1 + n_queue will exceed Nbox**3, which leads to a\n",
    "    small waste of memory. This will not affect the result, later we will make\n",
    "    slice to use only the part up to Nbox**3.\n",
    "    \"\"\"\n",
    "    f_idx1 = 0\n",
    "    queue_idx = 0\n",
    "    x_queue = np.empty(n_queue, dtype=np.float32)\n",
    "    y_queue = np.empty(n_queue, dtype=np.float32)\n",
    "    z_queue = np.empty(n_queue, dtype=np.float32)\n",
    "    for i,j,k in np.ndindex(Nbox, Nbox, Nbox):\n",
    "        if f_idx1 < f_idx:\n",
    "            f_idx1 += 1\n",
    "            continue\n",
    "        elif (f_idx1 >= f_idx) and (queue_idx < n_queue):\n",
    "            x_queue[queue_idx] = x_start + i * Lcell\n",
    "            y_queue[queue_idx] = y_start + j * Lcell\n",
    "            z_queue[queue_idx] = z_start + k * Lcell\n",
    "            queue_idx += 1\n",
    "        elif queue_idx >= n_queue:\n",
    "            break\n",
    "        else:\n",
    "            raise Exception('Unexpected behaviour in make_xyz()')\n",
    "\n",
    "        \n",
    "\n",
    "    return x_queue, y_queue, z_queue\n",
    "\n",
    "make_xyz(5, 5, 5, 10, 0.1, f_idx=3, n_queue=10)"
   ]
  }
 ],
 "metadata": {
  "kernelspec": {
   "display_name": "parallel",
   "language": "python",
   "name": "python3"
  },
  "language_info": {
   "codemirror_mode": {
    "name": "ipython",
    "version": 3
   },
   "file_extension": ".py",
   "mimetype": "text/x-python",
   "name": "python",
   "nbconvert_exporter": "python",
   "pygments_lexer": "ipython3",
   "version": "3.11.7"
  }
 },
 "nbformat": 4,
 "nbformat_minor": 2
}
