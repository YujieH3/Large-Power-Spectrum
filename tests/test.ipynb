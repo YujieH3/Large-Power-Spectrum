{
 "cells": [
  {
   "cell_type": "code",
   "execution_count": 18,
   "metadata": {},
   "outputs": [],
   "source": [
    "# Does numba work with annoy\n",
    "import numpy as np\n",
    "from annoy import AnnoyIndex\n",
    "from numba import jit\n",
    "\n",
    "@jit(fastmath=True, forceobj=True)\n",
    "def test_numba():\n",
    "    f = 40\n",
    "    t = AnnoyIndex(f, 'euclidean')\n",
    "    for i in range(10000):\n",
    "        v = np.random.rand(f)\n",
    "        t.add_item(i, v)\n",
    "    t.build(10)\n",
    "    for j in range(100000):\n",
    "        t.get_nns_by_vector(np.random.rand(f), 10)"
   ]
  },
  {
   "cell_type": "code",
   "execution_count": 19,
   "metadata": {},
   "outputs": [
    {
     "name": "stderr",
     "output_type": "stream",
     "text": [
      "/tmp/ipykernel_996806/2664387536.py:6: NumbaWarning: \n",
      "Compilation is falling back to object mode WITHOUT looplifting enabled because Function \"test_numba\" failed type inference due to: non-precise type pyobject\n",
      "During: typing of argument at /tmp/ipykernel_996806/2664387536.py (10)\n",
      "\n",
      "File \"../../../../../tmp/ipykernel_996806/2664387536.py\", line 10:\n",
      "<source missing, REPL/exec in use?>\n",
      "\n",
      "  @jit(fastmath=True, forceobj=True)\n",
      "/tmp/ipykernel_996806/2664387536.py:6: NumbaWarning: \n",
      "Compilation is falling back to object mode WITHOUT looplifting enabled because Function \"test_numba\" failed type inference due to: non-precise type pyobject\n",
      "During: typing of argument at /tmp/ipykernel_996806/2664387536.py (13)\n",
      "\n",
      "File \"../../../../../tmp/ipykernel_996806/2664387536.py\", line 13:\n",
      "<source missing, REPL/exec in use?>\n",
      "\n",
      "  @jit(fastmath=True, forceobj=True)\n"
     ]
    }
   ],
   "source": [
    "test_numba()"
   ]
  },
  {
   "cell_type": "code",
   "execution_count": 20,
   "metadata": {},
   "outputs": [],
   "source": [
    "f = 40\n",
    "t = AnnoyIndex(f, 'euclidean')\n",
    "for i in range(10000):\n",
    "    v = np.random.rand(f)\n",
    "    t.add_item(i, v)\n",
    "t.build(10)\n",
    "for j in range(100000):\n",
    "    t.get_nns_by_vector(np.random.rand(f), 10)"
   ]
  },
  {
   "cell_type": "markdown",
   "metadata": {},
   "source": [
    "# Memory calculator"
   ]
  },
  {
   "cell_type": "markdown",
   "metadata": {},
   "source": [
    "590.6 MiB for ann_idx and data\n",
    "peak usage: 1034 MiB"
   ]
  },
  {
   "cell_type": "code",
   "execution_count": 4,
   "metadata": {},
   "outputs": [
    {
     "data": {
      "text/plain": [
       "34.1835776"
      ]
     },
     "execution_count": 4,
     "metadata": {},
     "output_type": "execute_result"
    }
   ],
   "source": [
    "195.6 / 2000000 * 1024 * 1024 / 3"
   ]
  },
  {
   "cell_type": "code",
   "execution_count": 18,
   "metadata": {},
   "outputs": [
    {
     "data": {
      "text/plain": [
       "30.21240234375"
      ]
     },
     "execution_count": 18,
     "metadata": {},
     "output_type": "execute_result"
    }
   ],
   "source": [
    "10000 * 64 / 8 / 1024 / 1024 * 99 * 4"
   ]
  },
  {
   "cell_type": "code",
   "execution_count": 13,
   "metadata": {},
   "outputs": [
    {
     "data": {
      "text/plain": [
       "7.62939453125"
      ]
     },
     "execution_count": 13,
     "metadata": {},
     "output_type": "execute_result"
    }
   ],
   "source": [
    "100**3 * 64 / 8 / 1024 / 1024"
   ]
  },
  {
   "cell_type": "code",
   "execution_count": 15,
   "metadata": {},
   "outputs": [
    {
     "data": {
      "text/plain": [
       "22888.18359375"
      ]
     },
     "execution_count": 15,
     "metadata": {},
     "output_type": "execute_result"
    }
   ],
   "source": [
    "1000**3 * 64 / 8 / 1024 / 1024 * 3"
   ]
  },
  {
   "cell_type": "code",
   "execution_count": 16,
   "metadata": {},
   "outputs": [
    {
     "data": {
      "text/plain": [
       "581"
      ]
     },
     "execution_count": 16,
     "metadata": {},
     "output_type": "execute_result"
    }
   ],
   "source": [
    "3442-2861"
   ]
  },
  {
   "cell_type": "code",
   "execution_count": 7,
   "metadata": {},
   "outputs": [
    {
     "data": {
      "text/plain": [
       "953.67431640625"
      ]
     },
     "execution_count": 7,
     "metadata": {},
     "output_type": "execute_result"
    }
   ],
   "source": [
    "500**3 * 64 / 8 / 1024 / 1024"
   ]
  },
  {
   "cell_type": "code",
   "execution_count": 6,
   "metadata": {},
   "outputs": [
    {
     "data": {
      "text/plain": [
       "(1.7402945113788488, 4.4823076923076925)"
      ]
     },
     "execution_count": 6,
     "metadata": {},
     "output_type": "execute_result"
    }
   ],
   "source": [
    "1300/747, 5827/1300"
   ]
  },
  {
   "cell_type": "code",
   "execution_count": null,
   "metadata": {},
   "outputs": [],
   "source": [
    "import numpy as np\n",
    "700 + "
   ]
  },
  {
   "cell_type": "code",
   "execution_count": 10,
   "metadata": {},
   "outputs": [
    {
     "data": {
      "text/plain": [
       "(2846, 407)"
      ]
     },
     "execution_count": 10,
     "metadata": {},
     "output_type": "execute_result"
    }
   ],
   "source": [
    "3441 - 595, 1002 - 595"
   ]
  }
 ],
 "metadata": {
  "kernelspec": {
   "display_name": "parallel",
   "language": "python",
   "name": "python3"
  },
  "language_info": {
   "codemirror_mode": {
    "name": "ipython",
    "version": 3
   },
   "file_extension": ".py",
   "mimetype": "text/x-python",
   "name": "python",
   "nbconvert_exporter": "python",
   "pygments_lexer": "ipython3",
   "version": "3.11.7"
  }
 },
 "nbformat": 4,
 "nbformat_minor": 2
}
