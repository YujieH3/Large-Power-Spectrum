{
 "cells": [
  {
   "cell_type": "code",
   "execution_count": 1,
   "metadata": {},
   "outputs": [],
   "source": [
    "%load_ext autoreload\n",
    "%autoreload 2\n",
    "import numpy as np"
   ]
  },
  {
   "cell_type": "code",
   "execution_count": 2,
   "metadata": {},
   "outputs": [
    {
     "name": "stdout",
     "output_type": "stream",
     "text": [
      "Only the CPU-only flavour of Voxelize is available!\n"
     ]
    }
   ],
   "source": [
    "# load our dataset\n",
    "import vpower\n",
    "snapshot = '/appalachia/d5/DISK/from_pleiades/snapshots/gmcs0_wind0_gmc9/snapshot_550.hdf5'\n",
    "simPtcls = vpower.SimulationParticles.load_snapshot(snapshot)\n",
    "data = simPtcls.pos\n",
    "query = vpower.make_grid_coords(Lbox=1., Nsize=256)"
   ]
  },
  {
   "cell_type": "markdown",
   "metadata": {},
   "source": [
    "## nmslib\n",
    "Task: create tree and perform nearest neighbor search for 256**3 points.\n",
    "|      | hnsw | sw-graph | vptree | napp | simple_invindx | brute_force |\n",
    "| ---- | :--: | :------: | :----: | :--: | :------------: | :---------: |\n",
    "| time | 115s | 181s | 96.6s | > 1 hour | doesn't work in l2 space | > 1 hour |\n",
    "\n"
   ]
  },
  {
   "cell_type": "code",
   "execution_count": 4,
   "metadata": {},
   "outputs": [
    {
     "name": "stdout",
     "output_type": "stream",
     "text": [
      "Batch added.\n",
      "Index created.\n"
     ]
    }
   ],
   "source": [
    "import nmslib\n",
    "import time\n",
    "\n",
    "for method in ['brute_force']:\n",
    "    t0 = time.perf_counter()\n",
    "    # initialize a new index, using a HNSW index on Cosine Similarity\n",
    "    index = nmslib.init(method=method, space='l2')\n",
    "    index.addDataPointBatch(data)\n",
    "    print(\"Batch added.\")\n",
    "\n",
    "    index.createIndex(print_progress=False)\n",
    "    print(\"Index created.\")\n",
    "    # query for the nearest neighbours of the first datapoint\n",
    "    # ids, distances = index.knnQuery(query[0], k=1)\n",
    "\n",
    "    # get all nearest neighbours for all the datapoint\n",
    "    # using a pool of 4 threads to compute\n",
    "    neighbours = index.knnQueryBatch(query, k=1, num_threads=20) # put query data here\n",
    "\n",
    "    print(\"Time taken\", time.perf_counter() - t0)"
   ]
  },
  {
   "cell_type": "markdown",
   "metadata": {},
   "source": [
    "## NGT"
   ]
  },
  {
   "cell_type": "code",
   "execution_count": 5,
   "metadata": {},
   "outputs": [
    {
     "name": "stdout",
     "output_type": "stream",
     "text": [
      "0: 7505772, 0.03123338893055916\n",
      "[0.01290084794163704, 0.0296783410012722, 0.011279667727649212]\n"
     ]
    }
   ],
   "source": [
    "import ngtpy\n",
    "# import random\n",
    "# dim = 10\n",
    "# nb = 100\n",
    "# vectors = [[random.random() for _ in range(dim)] for _ in range(nb)]\n",
    "# query = vectors[0]\n",
    "\n",
    "ngtpy.create(b\"tmp\", 3)\n",
    "index = ngtpy.Index(b\"tmp\")\n",
    "index.batch_insert(data)\n",
    "\n",
    "results = index.search(query[0,:], 1)\n",
    "for i, (id, distance) in enumerate(results) :\n",
    "    print(str(i) + \": \" + str(id) + \", \" + str(distance))\n",
    "    object = index.get_object(id)\n",
    "    print(object)"
   ]
  },
  {
   "cell_type": "code",
   "execution_count": 4,
   "metadata": {},
   "outputs": [
    {
     "data": {
      "text/plain": [
       "(16777216, 3)"
      ]
     },
     "execution_count": 4,
     "metadata": {},
     "output_type": "execute_result"
    }
   ],
   "source": [
    "np.shape(query)"
   ]
  }
 ],
 "metadata": {
  "kernelspec": {
   "display_name": "winterfell",
   "language": "python",
   "name": "python3"
  },
  "language_info": {
   "codemirror_mode": {
    "name": "ipython",
    "version": 3
   },
   "file_extension": ".py",
   "mimetype": "text/x-python",
   "name": "python",
   "nbconvert_exporter": "python",
   "pygments_lexer": "ipython3",
   "version": "3.9.17"
  },
  "orig_nbformat": 4
 },
 "nbformat": 4,
 "nbformat_minor": 2
}
