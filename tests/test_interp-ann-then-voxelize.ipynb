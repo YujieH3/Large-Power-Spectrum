{
 "cells": [
  {
   "cell_type": "code",
   "execution_count": null,
   "metadata": {},
   "outputs": [],
   "source": [
    "%load_ext autoreload\n",
    "%autoreload 2\n",
    "from vpower.interp import SimulationParticles\n",
    "import matplotlib.pyplot as plt\n",
    "plt.style.use('yjhe.mplstyle')\n",
    "\n",
    "SNAPSHOT = '/appalachia/d5/DISK/from_pleiades/snapshots/gmcs0_wind0_gmc9/snapshot_550.hdf5'\n",
    "allPar = SimulationParticles.load_snapshot(SNAPSHOT, remove_bulk_velocity=False)          # load the snapshot"
   ]
  },
  {
   "cell_type": "markdown",
   "metadata": {},
   "source": [
    "### ANN + Voxelize\n",
    "\n",
    "ANN first, and select nearest particles whose distance to the cell (center) is smaller than cell size and larger than particle radii to voxelize."
   ]
  },
  {
   "cell_type": "code",
   "execution_count": null,
   "metadata": {},
   "outputs": [],
   "source": [
    "Nsize = 256\n",
    "annField = allPar.interp_to_field(Nsize=Nsize)\n"
   ]
  }
 ],
 "metadata": {
  "language_info": {
   "name": "python"
  }
 },
 "nbformat": 4,
 "nbformat_minor": 2
}
