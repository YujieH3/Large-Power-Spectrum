{
 "cells": [
  {
   "cell_type": "code",
   "execution_count": 1,
   "metadata": {},
   "outputs": [
    {
     "name": "stdout",
     "output_type": "stream",
     "text": [
      "Only the CPU-only flavour of Voxelize is available!\n"
     ]
    }
   ],
   "source": [
    "%load_ext autoreload\n",
    "%autoreload 2\n",
    "\n",
    "import os\n",
    "os.environ['OMP_NUM_THREADS'] = '31'\n",
    "\n",
    "from utils_folding import SimulationParticles\n",
    "SNAPSHOT = '/appalachia/d5/DISK/from_pleiades/snapshots/gmcs0_wind4_gmc9/snapshot_550.hdf5'\n",
    "simParticles = SimulationParticles.load_snapshot(SNAPSHOT)"
   ]
  },
  {
   "cell_type": "code",
   "execution_count": 2,
   "metadata": {},
   "outputs": [
    {
     "name": "stdout",
     "output_type": "stream",
     "text": [
      "Interpolating velocity field...\n",
      "Padding:  0.04116758416095456 Lbox:  1.0823351683219091 Nsize:  276\n",
      "Auto padding done. Time elapsed: 1.47 s\n"
     ]
    },
    {
     "name": "stderr",
     "output_type": "stream",
     "text": [
      "OMP: Info #276: omp_set_nested routine deprecated, please use omp_set_max_active_levels instead.\n",
      "root_add_process : started ...\n",
      "workers_process : started ...\n",
      "workers using 35 threads.\n",
      "Workers processed 80734160 numbers, of which were\n",
      "\t0.000e+00 exact calculations (R<Rmin),\n",
      "\t7.437e+07 exact calculations (R>Rmax),\n",
      "\t6.359e+06 trivial calculations,\n",
      "\t0.000e+00 interpolations.\n",
      "\n",
      "workers_process : ended.\n",
      "Root processed 80734160 numbers in 2482 CPU-chunks.\n",
      "root_add_process : ended.\n",
      "voxelize_gpu function took 11.0473 seconds\n",
      "In the end, 0 in cpu_queue\n"
     ]
    },
    {
     "name": "stdout",
     "output_type": "stream",
     "text": [
      "Interpolation done. Time elapsed: 13.32 s\n"
     ]
    }
   ],
   "source": [
    "simField = simParticles.interp_to_field(Nsize=256, smoothing_rate=1)"
   ]
  }
 ],
 "metadata": {
  "kernelspec": {
   "display_name": "winterfell",
   "language": "python",
   "name": "python3"
  },
  "language_info": {
   "codemirror_mode": {
    "name": "ipython",
    "version": 3
   },
   "file_extension": ".py",
   "mimetype": "text/x-python",
   "name": "python",
   "nbconvert_exporter": "python",
   "pygments_lexer": "ipython3",
   "version": "3.9.7"
  },
  "orig_nbformat": 4
 },
 "nbformat": 4,
 "nbformat_minor": 2
}
