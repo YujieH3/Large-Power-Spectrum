{
 "cells": [
  {
   "cell_type": "code",
   "execution_count": 16,
   "metadata": {},
   "outputs": [
    {
     "data": {
      "text/plain": [
       "30105.6"
      ]
     },
     "execution_count": 16,
     "metadata": {},
     "output_type": "execute_result"
    }
   ],
   "source": [
    "( 16**3 * ( (30+20)*35 + 6) + 16**3 * (6*16**3 + 4*32) ) / 3600"
   ]
  },
  {
   "cell_type": "code",
   "execution_count": 21,
   "metadata": {},
   "outputs": [],
   "source": [
    "# For n=16, m=16, N_fft = 1024\n",
    "N_t = 2048 * 8\n",
    "n = 16\n",
    "m = 16\n",
    "\n",
    "t_save = 6\n",
    "t_load = 5\n",
    "t_interp = 60\n",
    "t_fft = 4"
   ]
  },
  {
   "cell_type": "code",
   "execution_count": 22,
   "metadata": {},
   "outputs": [
    {
     "name": "stdout",
     "output_type": "stream",
     "text": [
      "23381.333333333332\n",
      "Core hours : 748202.6666666666\n"
     ]
    }
   ],
   "source": [
    "# float32 and complex64\n",
    "t = n**3 * (t_interp + t_save) + m**3 * (n**3 * t_load + t_fft)\n",
    "print(t / 3600)\n",
    "print(\"Core hours : {}\".format(t / 3600 * 32))"
   ]
  },
  {
   "cell_type": "code",
   "execution_count": 23,
   "metadata": {},
   "outputs": [
    {
     "name": "stdout",
     "output_type": "stream",
     "text": [
      "2967.210666666667\n",
      "Core hours : 94950.74133333334\n"
     ]
    }
   ],
   "source": [
    "# float32 and complex64\n",
    "# A guess on 2048 case\n",
    "import numpy as np\n",
    "n = 8\n",
    "m = 8\n",
    "t = n**3 * (t_interp*5 + t_save*8) + m**3 * (n**3 * t_load*8 + t_fft*8*np.log(2048)/np.log(1024))\n",
    "print(t / 3600)\n",
    "print(\"Core hours : {}\".format(t / 3600 * 32))"
   ]
  }
 ],
 "metadata": {
  "kernelspec": {
   "display_name": "winterfell",
   "language": "python",
   "name": "python3"
  },
  "language_info": {
   "codemirror_mode": {
    "name": "ipython",
    "version": 3
   },
   "file_extension": ".py",
   "mimetype": "text/x-python",
   "name": "python",
   "nbconvert_exporter": "python",
   "pygments_lexer": "ipython3",
   "version": "3.9.7"
  },
  "orig_nbformat": 4
 },
 "nbformat": 4,
 "nbformat_minor": 2
}
